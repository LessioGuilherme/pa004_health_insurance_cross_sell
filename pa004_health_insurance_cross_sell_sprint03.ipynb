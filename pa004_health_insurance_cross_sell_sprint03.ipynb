{
 "cells": [
  {
   "cell_type": "markdown",
   "metadata": {
    "heading_collapsed": true
   },
   "source": [
    "# 0.0 Imports"
   ]
  },
  {
   "cell_type": "code",
   "execution_count": 1,
   "metadata": {
    "ExecuteTime": {
     "end_time": "2021-02-02T20:55:03.987062Z",
     "start_time": "2021-02-02T20:54:21.361064Z"
    },
    "hidden": true
   },
   "outputs": [],
   "source": [
    "import pandas             as pd\n",
    "import numpy              as np\n",
    "import pandas.io.sql      as sqlio\n",
    "\n",
    "import matplotlib.pyplot  as plt\n",
    "import seaborn            as sns\n",
    "\n",
    "%matplotlib inline\n",
    "\n",
    "import warnings\n",
    "warnings.filterwarnings(\"ignore\")\n",
    "\n",
    "import psycopg2\n",
    "\n",
    "from IPython.display import Image"
   ]
  },
  {
   "cell_type": "markdown",
   "metadata": {
    "hidden": true
   },
   "source": [
    "## 0.1 Helper Functions"
   ]
  },
  {
   "cell_type": "code",
   "execution_count": 2,
   "metadata": {
    "ExecuteTime": {
     "end_time": "2021-02-02T20:55:03.997068Z",
     "start_time": "2021-02-02T20:55:03.991066Z"
    },
    "hidden": true
   },
   "outputs": [],
   "source": [
    "def create_connection_database(host_name, port_num, database_name, user_name, password_name):\n",
    "    connection = None\n",
    "    connection = psycopg2.connect(\n",
    "                        host = host_name,\n",
    "                        port = port_num,\n",
    "                        database = database_name,\n",
    "                        user = user_name,\n",
    "                        password = password_name)\n",
    "    return connection\n"
   ]
  },
  {
   "cell_type": "markdown",
   "metadata": {
    "heading_collapsed": true,
    "hidden": true
   },
   "source": [
    "## 0.2 Loading Data"
   ]
  },
  {
   "cell_type": "code",
   "execution_count": 3,
   "metadata": {
    "ExecuteTime": {
     "end_time": "2021-02-02T20:56:28.185915Z",
     "start_time": "2021-02-02T20:55:04.001071Z"
    },
    "hidden": true
   },
   "outputs": [
    {
     "name": "stdout",
     "output_type": "stream",
     "text": [
      "Tables shape:\n",
      " Insurance: (381109, 5)\n",
      " Vehicle: (381109, 4)\n",
      " Users: (381109, 5)\n"
     ]
    }
   ],
   "source": [
    "#connect to the DB\n",
    "host_name     = \"comunidade-ds-postgres.c50pcakiuwi3.us-east-1.rds.amazonaws.com\"\n",
    "port_num      = 5432 \n",
    "database_name = \"comunidadedsdb\"\n",
    "user_name     = \"member\"\n",
    "password_name = \"cdspa\"\n",
    "\n",
    "#make connection with DB\n",
    "conn = create_connection_database (host_name, port_num, database_name, user_name, password_name)\n",
    "\n",
    "#checking tables in schema\n",
    "cur = conn.cursor()\n",
    "\n",
    "cur.execute(\"\"\"SELECT table_schema, table_name\n",
    "                      FROM information_schema.tables\n",
    "                      WHERE table_schema != 'pg_catalog'\n",
    "                      AND table_schema != 'information_schema'\n",
    "                      AND table_type='BASE TABLE'\n",
    "                      ORDER BY table_schema, table_name\"\"\")\n",
    "\n",
    "schemas_db = cur.fetchall()\n",
    "\n",
    "# cursor close\n",
    "cur.close()\n",
    "\n",
    "df_insurance = sqlio.read_sql_query(\"Select * from pa004.insurance\", conn)\n",
    "df_vehicle = sqlio.read_sql_query(\"Select * from pa004.vehicle\", conn)\n",
    "df_users = sqlio.read_sql_query(\"Select * from pa004.users\", conn)\n",
    "\n",
    "#close the connection\n",
    "conn.close()\n",
    "\n",
    "#checking each shape of dataframes\n",
    "print('Tables shape:\\n Insurance: {}\\n Vehicle: {}\\n Users: {}'.format(df_insurance.shape,df_vehicle.shape, df_users.shape ))"
   ]
  },
  {
   "cell_type": "code",
   "execution_count": 4,
   "metadata": {
    "ExecuteTime": {
     "end_time": "2021-02-02T20:56:29.216592Z",
     "start_time": "2021-02-02T20:56:28.187915Z"
    },
    "hidden": true
   },
   "outputs": [
    {
     "data": {
      "text/html": [
       "<div>\n",
       "<style scoped>\n",
       "    .dataframe tbody tr th:only-of-type {\n",
       "        vertical-align: middle;\n",
       "    }\n",
       "\n",
       "    .dataframe tbody tr th {\n",
       "        vertical-align: top;\n",
       "    }\n",
       "\n",
       "    .dataframe thead th {\n",
       "        text-align: right;\n",
       "    }\n",
       "</style>\n",
       "<table border=\"1\" class=\"dataframe\">\n",
       "  <thead>\n",
       "    <tr style=\"text-align: right;\">\n",
       "      <th></th>\n",
       "      <th>id</th>\n",
       "      <th>gender</th>\n",
       "      <th>age</th>\n",
       "      <th>region_code</th>\n",
       "      <th>policy_sales_channel</th>\n",
       "      <th>driving_license</th>\n",
       "      <th>vehicle_age</th>\n",
       "      <th>vehicle_damage</th>\n",
       "      <th>previously_insured</th>\n",
       "      <th>annual_premium</th>\n",
       "      <th>vintage</th>\n",
       "      <th>response</th>\n",
       "    </tr>\n",
       "  </thead>\n",
       "  <tbody>\n",
       "    <tr>\n",
       "      <th>165345</th>\n",
       "      <td>165346</td>\n",
       "      <td>Female</td>\n",
       "      <td>34</td>\n",
       "      <td>8.0</td>\n",
       "      <td>124.0</td>\n",
       "      <td>1</td>\n",
       "      <td>1-2 Year</td>\n",
       "      <td>Yes</td>\n",
       "      <td>0</td>\n",
       "      <td>37071.0</td>\n",
       "      <td>206</td>\n",
       "      <td>0</td>\n",
       "    </tr>\n",
       "    <tr>\n",
       "      <th>232417</th>\n",
       "      <td>232418</td>\n",
       "      <td>Female</td>\n",
       "      <td>38</td>\n",
       "      <td>4.0</td>\n",
       "      <td>124.0</td>\n",
       "      <td>1</td>\n",
       "      <td>1-2 Year</td>\n",
       "      <td>Yes</td>\n",
       "      <td>0</td>\n",
       "      <td>33243.0</td>\n",
       "      <td>63</td>\n",
       "      <td>0</td>\n",
       "    </tr>\n",
       "    <tr>\n",
       "      <th>348300</th>\n",
       "      <td>348301</td>\n",
       "      <td>Male</td>\n",
       "      <td>37</td>\n",
       "      <td>41.0</td>\n",
       "      <td>124.0</td>\n",
       "      <td>1</td>\n",
       "      <td>1-2 Year</td>\n",
       "      <td>Yes</td>\n",
       "      <td>0</td>\n",
       "      <td>40820.0</td>\n",
       "      <td>52</td>\n",
       "      <td>1</td>\n",
       "    </tr>\n",
       "    <tr>\n",
       "      <th>111365</th>\n",
       "      <td>111366</td>\n",
       "      <td>Female</td>\n",
       "      <td>28</td>\n",
       "      <td>8.0</td>\n",
       "      <td>152.0</td>\n",
       "      <td>1</td>\n",
       "      <td>&lt; 1 Year</td>\n",
       "      <td>Yes</td>\n",
       "      <td>0</td>\n",
       "      <td>29611.0</td>\n",
       "      <td>59</td>\n",
       "      <td>0</td>\n",
       "    </tr>\n",
       "    <tr>\n",
       "      <th>267804</th>\n",
       "      <td>267805</td>\n",
       "      <td>Male</td>\n",
       "      <td>23</td>\n",
       "      <td>3.0</td>\n",
       "      <td>152.0</td>\n",
       "      <td>1</td>\n",
       "      <td>&lt; 1 Year</td>\n",
       "      <td>No</td>\n",
       "      <td>1</td>\n",
       "      <td>54080.0</td>\n",
       "      <td>145</td>\n",
       "      <td>0</td>\n",
       "    </tr>\n",
       "  </tbody>\n",
       "</table>\n",
       "</div>"
      ],
      "text/plain": [
       "            id  gender  age  region_code  policy_sales_channel  \\\n",
       "165345  165346  Female   34          8.0                 124.0   \n",
       "232417  232418  Female   38          4.0                 124.0   \n",
       "348300  348301    Male   37         41.0                 124.0   \n",
       "111365  111366  Female   28          8.0                 152.0   \n",
       "267804  267805    Male   23          3.0                 152.0   \n",
       "\n",
       "        driving_license vehicle_age vehicle_damage  previously_insured  \\\n",
       "165345                1    1-2 Year            Yes                   0   \n",
       "232417                1    1-2 Year            Yes                   0   \n",
       "348300                1    1-2 Year            Yes                   0   \n",
       "111365                1    < 1 Year            Yes                   0   \n",
       "267804                1    < 1 Year             No                   1   \n",
       "\n",
       "        annual_premium  vintage  response  \n",
       "165345         37071.0      206         0  \n",
       "232417         33243.0       63         0  \n",
       "348300         40820.0       52         1  \n",
       "111365         29611.0       59         0  \n",
       "267804         54080.0      145         0  "
      ]
     },
     "execution_count": 4,
     "metadata": {},
     "output_type": "execute_result"
    }
   ],
   "source": [
    "df0 = df_users.merge(df_vehicle, how = 'outer', on='id')\n",
    "df0 = df0.merge(df_insurance, how = 'outer', on='id')\n",
    "\n",
    "#cleaning memory of dataframes used to collect data from DB\n",
    "df_vehicle = None\n",
    "df_users = None\n",
    "df_insurance = None\n",
    "\n",
    "df0.sample(5)"
   ]
  },
  {
   "cell_type": "markdown",
   "metadata": {},
   "source": [
    "# 1.0 Data Description"
   ]
  },
  {
   "cell_type": "code",
   "execution_count": 5,
   "metadata": {
    "ExecuteTime": {
     "end_time": "2021-02-02T20:56:29.250616Z",
     "start_time": "2021-02-02T20:56:29.219595Z"
    }
   },
   "outputs": [],
   "source": [
    "df1 = df0.copy()"
   ]
  },
  {
   "cell_type": "markdown",
   "metadata": {
    "heading_collapsed": true
   },
   "source": [
    "## 1.1 Rename Columns"
   ]
  },
  {
   "cell_type": "code",
   "execution_count": 6,
   "metadata": {
    "ExecuteTime": {
     "end_time": "2021-02-02T20:56:29.428891Z",
     "start_time": "2021-02-02T20:56:29.252616Z"
    },
    "hidden": true
   },
   "outputs": [
    {
     "data": {
      "text/plain": [
       "Index(['id', 'gender', 'age', 'region_code', 'policy_sales_channel',\n",
       "       'driving_license', 'vehicle_age', 'vehicle_damage',\n",
       "       'previously_insured', 'annual_premium', 'vintage', 'response'],\n",
       "      dtype='object')"
      ]
     },
     "execution_count": 6,
     "metadata": {},
     "output_type": "execute_result"
    }
   ],
   "source": [
    "cols = df1.columns\n",
    "cols"
   ]
  },
  {
   "cell_type": "markdown",
   "metadata": {
    "hidden": true
   },
   "source": [
    "- Columns names already in snake case"
   ]
  },
  {
   "cell_type": "markdown",
   "metadata": {
    "heading_collapsed": true
   },
   "source": [
    "## 1.2 Data Dimension"
   ]
  },
  {
   "cell_type": "code",
   "execution_count": 7,
   "metadata": {
    "ExecuteTime": {
     "end_time": "2021-02-02T20:56:29.632023Z",
     "start_time": "2021-02-02T20:56:29.430891Z"
    },
    "hidden": true
   },
   "outputs": [
    {
     "name": "stdout",
     "output_type": "stream",
     "text": [
      "Number of Rows: 381109\n",
      "Number of Columns: 12\n"
     ]
    }
   ],
   "source": [
    "print('Number of Rows: {}'.format(df1.shape[0]))\n",
    "print('Number of Columns: {}'.format(df1.shape[1]))"
   ]
  },
  {
   "cell_type": "markdown",
   "metadata": {
    "heading_collapsed": true,
    "hide_input": true
   },
   "source": [
    "## 1.3 Data Types"
   ]
  },
  {
   "cell_type": "code",
   "execution_count": 8,
   "metadata": {
    "ExecuteTime": {
     "end_time": "2021-02-02T20:56:29.787128Z",
     "start_time": "2021-02-02T20:56:29.636027Z"
    },
    "hidden": true
   },
   "outputs": [
    {
     "data": {
      "text/plain": [
       "id                        int64\n",
       "gender                   object\n",
       "age                       int64\n",
       "region_code               int64\n",
       "policy_sales_channel      int64\n",
       "driving_license           int64\n",
       "vehicle_age              object\n",
       "vehicle_damage           object\n",
       "previously_insured        int64\n",
       "annual_premium          float64\n",
       "vintage                   int64\n",
       "response                  int64\n",
       "dtype: object"
      ]
     },
     "execution_count": 8,
     "metadata": {},
     "output_type": "execute_result"
    }
   ],
   "source": [
    "df1['region_code'] = df1['region_code'].astype(np.int64)\n",
    "df1['policy_sales_channel'] = df1['policy_sales_channel'].astype(np.int64)\n",
    "df1.dtypes"
   ]
  },
  {
   "cell_type": "markdown",
   "metadata": {
    "hidden": true
   },
   "source": [
    "- Types are OK:\n",
    "    - Only numbers (int and float) and categories (object). There is no dates to convert."
   ]
  },
  {
   "cell_type": "markdown",
   "metadata": {
    "heading_collapsed": true,
    "hide_input": true
   },
   "source": [
    "## 1.4 Check NAN"
   ]
  },
  {
   "cell_type": "code",
   "execution_count": 9,
   "metadata": {
    "ExecuteTime": {
     "end_time": "2021-02-02T20:56:30.120635Z",
     "start_time": "2021-02-02T20:56:29.790130Z"
    },
    "hidden": true
   },
   "outputs": [
    {
     "data": {
      "text/plain": [
       "id                      0\n",
       "gender                  0\n",
       "age                     0\n",
       "region_code             0\n",
       "policy_sales_channel    0\n",
       "driving_license         0\n",
       "vehicle_age             0\n",
       "vehicle_damage          0\n",
       "previously_insured      0\n",
       "annual_premium          0\n",
       "vintage                 0\n",
       "response                0\n",
       "dtype: int64"
      ]
     },
     "execution_count": 9,
     "metadata": {},
     "output_type": "execute_result"
    }
   ],
   "source": [
    "df1.isna().sum()"
   ]
  },
  {
   "cell_type": "markdown",
   "metadata": {
    "hidden": true
   },
   "source": [
    "- There is no NAN in original datas"
   ]
  },
  {
   "cell_type": "markdown",
   "metadata": {
    "heading_collapsed": true,
    "hide_input": true
   },
   "source": [
    "## 1.5 Fillout NA"
   ]
  },
  {
   "cell_type": "markdown",
   "metadata": {
    "hidden": true
   },
   "source": [
    "Not necessary, as seen in 1.4 section"
   ]
  },
  {
   "cell_type": "markdown",
   "metadata": {
    "heading_collapsed": true,
    "hide_input": true
   },
   "source": [
    "## 1.6 Columns Description"
   ]
  },
  {
   "cell_type": "code",
   "execution_count": 10,
   "metadata": {
    "ExecuteTime": {
     "end_time": "2021-02-02T20:56:30.214637Z",
     "start_time": "2021-02-02T20:56:30.122637Z"
    },
    "hidden": true
   },
   "outputs": [
    {
     "data": {
      "text/plain": [
       "Index(['id', 'gender', 'age', 'region_code', 'policy_sales_channel',\n",
       "       'driving_license', 'vehicle_age', 'vehicle_damage',\n",
       "       'previously_insured', 'annual_premium', 'vintage', 'response'],\n",
       "      dtype='object')"
      ]
     },
     "execution_count": 10,
     "metadata": {},
     "output_type": "execute_result"
    }
   ],
   "source": [
    "cols = df1.columns\n",
    "cols"
   ]
  },
  {
   "cell_type": "markdown",
   "metadata": {
    "hidden": true
   },
   "source": [
    "\n",
    "- **Id**: Customer identifier \n",
    "- **Gender**: Gender of customer\n",
    "- **Age**: Age of customer\n",
    "- **Driving License**: 0 if customer does not have the permission for drive; 1 if customer has the permission for drive\n",
    "- **Region Code**: Region code of customer\n",
    "- **Previously Insured**: 0 if customer does not have a vehicle insurance; 1 if customer already has a vehicle insurance.\n",
    "- **Vehicle Age**: Age of vehicle\n",
    "- **Vehicle Damage**: 0 if customer never got involved in a previous vehicle damage; 1 if customer already had a vehicle damage\n",
    "- **Annual Premium**: amount paid for health insurance to the company anualy.\n",
    "- **Policy sales channel**: anonymous code for contact with customer.\n",
    "- **Vintage**: time (in days) that customer bought his health assurance.\n",
    "- **Response**: 0 if customer has no interest in product; 1 if customer has interest in product"
   ]
  },
  {
   "cell_type": "markdown",
   "metadata": {
    "hide_input": false
   },
   "source": [
    "## 1.7 Descriptive Statistical"
   ]
  },
  {
   "cell_type": "code",
   "execution_count": 11,
   "metadata": {
    "ExecuteTime": {
     "end_time": "2021-02-02T20:56:30.400880Z",
     "start_time": "2021-02-02T20:56:30.216640Z"
    },
    "hide_input": false
   },
   "outputs": [],
   "source": [
    "num_attributes = df1[['age', 'annual_premium', 'vintage']]\n",
    "\n",
    "cat_attributes = df1[['driving_license', 'previously_insured', 'vehicle_damage', 'vehicle_age', 'gender', 'region_code', 'policy_sales_channel' ]]\n",
    "\n",
    "target_atribute = df1['response']"
   ]
  },
  {
   "cell_type": "markdown",
   "metadata": {
    "ExecuteTime": {
     "end_time": "2021-01-10T22:55:10.412533Z",
     "start_time": "2021-01-10T22:55:10.390516Z"
    },
    "hide_input": false
   },
   "source": [
    "### 1.7.1 Numerical Attributes"
   ]
  },
  {
   "cell_type": "code",
   "execution_count": 12,
   "metadata": {
    "ExecuteTime": {
     "end_time": "2021-02-02T20:56:31.058525Z",
     "start_time": "2021-02-02T20:56:30.402876Z"
    },
    "hide_input": false
   },
   "outputs": [
    {
     "data": {
      "text/html": [
       "<div>\n",
       "<style scoped>\n",
       "    .dataframe tbody tr th:only-of-type {\n",
       "        vertical-align: middle;\n",
       "    }\n",
       "\n",
       "    .dataframe tbody tr th {\n",
       "        vertical-align: top;\n",
       "    }\n",
       "\n",
       "    .dataframe thead th {\n",
       "        text-align: right;\n",
       "    }\n",
       "</style>\n",
       "<table border=\"1\" class=\"dataframe\">\n",
       "  <thead>\n",
       "    <tr style=\"text-align: right;\">\n",
       "      <th></th>\n",
       "      <th>attributes</th>\n",
       "      <th>min</th>\n",
       "      <th>max</th>\n",
       "      <th>range</th>\n",
       "      <th>mean</th>\n",
       "      <th>median</th>\n",
       "      <th>std</th>\n",
       "      <th>skew</th>\n",
       "      <th>kurtosis</th>\n",
       "    </tr>\n",
       "  </thead>\n",
       "  <tbody>\n",
       "    <tr>\n",
       "      <th>0</th>\n",
       "      <td>age</td>\n",
       "      <td>20.0</td>\n",
       "      <td>85.0</td>\n",
       "      <td>65.0</td>\n",
       "      <td>38.822584</td>\n",
       "      <td>36.0</td>\n",
       "      <td>15.511591</td>\n",
       "      <td>0.672539</td>\n",
       "      <td>-0.565655</td>\n",
       "    </tr>\n",
       "    <tr>\n",
       "      <th>1</th>\n",
       "      <td>annual_premium</td>\n",
       "      <td>2630.0</td>\n",
       "      <td>540165.0</td>\n",
       "      <td>537535.0</td>\n",
       "      <td>30564.389581</td>\n",
       "      <td>31669.0</td>\n",
       "      <td>17213.132474</td>\n",
       "      <td>1.766087</td>\n",
       "      <td>34.004569</td>\n",
       "    </tr>\n",
       "    <tr>\n",
       "      <th>2</th>\n",
       "      <td>vintage</td>\n",
       "      <td>10.0</td>\n",
       "      <td>299.0</td>\n",
       "      <td>289.0</td>\n",
       "      <td>154.347397</td>\n",
       "      <td>154.0</td>\n",
       "      <td>83.671194</td>\n",
       "      <td>0.003030</td>\n",
       "      <td>-1.200688</td>\n",
       "    </tr>\n",
       "  </tbody>\n",
       "</table>\n",
       "</div>"
      ],
      "text/plain": [
       "       attributes     min       max     range          mean   median  \\\n",
       "0             age    20.0      85.0      65.0     38.822584     36.0   \n",
       "1  annual_premium  2630.0  540165.0  537535.0  30564.389581  31669.0   \n",
       "2         vintage    10.0     299.0     289.0    154.347397    154.0   \n",
       "\n",
       "            std      skew   kurtosis  \n",
       "0     15.511591  0.672539  -0.565655  \n",
       "1  17213.132474  1.766087  34.004569  \n",
       "2     83.671194  0.003030  -1.200688  "
      ]
     },
     "execution_count": 12,
     "metadata": {},
     "output_type": "execute_result"
    }
   ],
   "source": [
    "# Central Tendency - Mean, median\n",
    "\n",
    "ct1 = pd.DataFrame(num_attributes.apply(np.mean)).T\n",
    "ct2 = pd.DataFrame(num_attributes.apply(np.median)).T\n",
    "\n",
    "# Dispersion - std, min, max, range, skew, kurtosis\n",
    "d1 = pd.DataFrame(num_attributes.apply(np.std)).T\n",
    "d2 = pd.DataFrame(num_attributes.apply(min)).T\n",
    "d3 = pd.DataFrame(num_attributes.apply(max)).T\n",
    "d4 = pd.DataFrame(num_attributes.apply( lambda x: x.max()- x.min() ) ).T\n",
    "d5 = pd.DataFrame(num_attributes.apply( lambda x: x.skew() ) ).T\n",
    "d6 = pd.DataFrame(num_attributes.apply( lambda x: x.kurtosis() ) ).T\n",
    "\n",
    "#concatenate\n",
    "\n",
    "m = pd.concat ([d2, d3, d4, ct1, ct2, d1, d5, d6]).T.reset_index()\n",
    "m.columns = (['attributes', 'min', 'max', 'range', 'mean', 'median', 'std', 'skew', 'kurtosis'])\n",
    "m"
   ]
  },
  {
   "cell_type": "code",
   "execution_count": 13,
   "metadata": {
    "ExecuteTime": {
     "end_time": "2021-02-02T20:56:40.127140Z",
     "start_time": "2021-02-02T20:56:31.060528Z"
    },
    "hide_input": true
   },
   "outputs": [
    {
     "data": {
      "text/plain": [
       "<AxesSubplot:xlabel='vintage', ylabel='Density'>"
      ]
     },
     "execution_count": 13,
     "metadata": {},
     "output_type": "execute_result"
    },
    {
     "data": {
      "image/png": "[encoded data removed]",
      "text/plain": [
       "<Figure size 576x576 with 3 Axes>"
      ]
     },
     "metadata": {
      "needs_background": "light"
     },
     "output_type": "display_data"
    }
   ],
   "source": [
    "fig, axs = plt.subplots(3, figsize = (8,8))\n",
    "sns.distplot(df1['age'], ax=axs[0], bins = 6)\n",
    "sns.distplot(df1[df1['annual_premium']<100000]['annual_premium'], ax=axs[1])\n",
    "sns.distplot(df1['vintage'], ax=axs[2])\n"
   ]
  },
  {
   "cell_type": "code",
   "execution_count": 14,
   "metadata": {
    "ExecuteTime": {
     "end_time": "2021-02-02T20:56:40.680424Z",
     "start_time": "2021-02-02T20:56:40.129142Z"
    },
    "hide_input": true
   },
   "outputs": [
    {
     "name": "stdout",
     "output_type": "stream",
     "text": [
      "Age analysis:\n",
      "Percent of 20-29: 0.424\n",
      "Percent of 30-39: 0.145\n",
      "Percent of 40-49: 0.199\n",
      "Percent of 50-59: 0.119\n",
      "Percent of 60-69: 0.073\n",
      "Percent of 70-79: 0.04\n",
      "Percent of 80-85: 0.0003\n"
     ]
    }
   ],
   "source": [
    "bins = pd.cut(df1['age'], [19, 30, 40, 50, 60, 70, 80, 90])\n",
    "\n",
    "df1.groupby(bins)['age'].size().sum()\n",
    "print('Age analysis:')\n",
    "print('Percent of 20-29: {}'.format(round((df1.groupby(bins)['age'].size()[0]/df1.groupby(bins)['age'].size().sum()),3)))\n",
    "print('Percent of 30-39: {}'.format(round((df1.groupby(bins)['age'].size()[1]/df1.groupby(bins)['age'].size().sum()),3)))\n",
    "print('Percent of 40-49: {}'.format(round((df1.groupby(bins)['age'].size()[2]/df1.groupby(bins)['age'].size().sum()),3)))\n",
    "print('Percent of 50-59: {}'.format(round((df1.groupby(bins)['age'].size()[3]/df1.groupby(bins)['age'].size().sum()),3)))\n",
    "print('Percent of 60-69: {}'.format(round((df1.groupby(bins)['age'].size()[4]/df1.groupby(bins)['age'].size().sum()),3)))\n",
    "print('Percent of 70-79: {}'.format(round((df1.groupby(bins)['age'].size()[5]/df1.groupby(bins)['age'].size().sum()),3)))\n",
    "print('Percent of 80-85: {}'.format(round((df1.groupby(bins)['age'].size()[6]/df1.groupby(bins)['age'].size().sum()),4)))"
   ]
  },
  {
   "cell_type": "markdown",
   "metadata": {},
   "source": [
    "**Data Description Summary for numerical attributes:**\n",
    "\n",
    "1. **Age** \n",
    "    - Range is from 20 to 85. \n",
    "    - Mean is 38.82 and median is 36. \n",
    "    - Higher density is from 20 to 29 with 42%, followed by 40 to 49 with 19,9%.\n",
    "****    \n",
    "2. **Annual_premium**\n",
    "    - Range is from 2630 to 540165.\n",
    "    - There is a peak in 2630, and a high density around 20000 to 60000.\n",
    "****      \n",
    "3. **Vintage**\n",
    "    - Range is from 10 to 299.\n",
    "    - Mean and median are 154. "
   ]
  },
  {
   "cell_type": "markdown",
   "metadata": {
    "ExecuteTime": {
     "end_time": "2021-01-10T22:55:10.412533Z",
     "start_time": "2021-01-10T22:55:10.390516Z"
    },
    "heading_collapsed": true
   },
   "source": [
    "### 1.7.2 Categorical Attributes"
   ]
  },
  {
   "cell_type": "code",
   "execution_count": 15,
   "metadata": {
    "ExecuteTime": {
     "end_time": "2021-02-02T20:56:40.839006Z",
     "start_time": "2021-02-02T20:56:40.682426Z"
    },
    "hidden": true,
    "hide_input": true
   },
   "outputs": [
    {
     "data": {
      "text/plain": [
       "driving_license           2\n",
       "previously_insured        2\n",
       "vehicle_damage            2\n",
       "vehicle_age               3\n",
       "gender                    2\n",
       "region_code              53\n",
       "policy_sales_channel    155\n",
       "dtype: int64"
      ]
     },
     "execution_count": 15,
     "metadata": {},
     "output_type": "execute_result"
    }
   ],
   "source": [
    "cat_attributes.apply(lambda x: x.unique().shape[0])"
   ]
  },
  {
   "cell_type": "code",
   "execution_count": 16,
   "metadata": {
    "ExecuteTime": {
     "end_time": "2021-02-02T20:56:42.689297Z",
     "start_time": "2021-02-02T20:56:40.841008Z"
    },
    "hidden": true,
    "hide_input": true
   },
   "outputs": [
    {
     "data": {
      "text/plain": [
       "<AxesSubplot:xlabel='gender', ylabel='count'>"
      ]
     },
     "execution_count": 16,
     "metadata": {},
     "output_type": "execute_result"
    },
    {
     "data": {
      "image/png": "[encoded data removed]",
      "text/plain": [
       "<Figure size 1152x576 with 6 Axes>"
      ]
     },
     "metadata": {
      "needs_background": "light"
     },
     "output_type": "display_data"
    }
   ],
   "source": [
    "fig, axs = plt.subplots(ncols = 3, nrows = 2,  figsize = (16,8))\n",
    "\n",
    "sns.countplot(x ='driving_license', data= df1, ax=axs[0][0])\n",
    "sns.countplot(x = 'previously_insured', data=df1, ax=axs[0][1])\n",
    "sns.countplot(x = 'vehicle_damage', data=df1, ax=axs[0][2])\n",
    "\n",
    "sns.countplot(x = 'vehicle_age', data=df1,ax=axs[1][0])\n",
    "sns.countplot(x = 'gender', data=df1,ax=axs[1][1])"
   ]
  },
  {
   "cell_type": "code",
   "execution_count": 17,
   "metadata": {
    "ExecuteTime": {
     "end_time": "2021-02-02T20:56:43.459789Z",
     "start_time": "2021-02-02T20:56:42.691300Z"
    },
    "hidden": true,
    "hide_input": true
   },
   "outputs": [
    {
     "ename": "NameError",
     "evalue": "name 'ax' is not defined",
     "output_type": "error",
     "traceback": [
      "\u001b[1;31m---------------------------------------------------------------------------\u001b[0m",
      "\u001b[1;31mNameError\u001b[0m                                 Traceback (most recent call last)",
      "\u001b[1;32m<ipython-input-17-4f65b3b1c535>\u001b[0m in \u001b[0;36m<module>\u001b[1;34m\u001b[0m\n\u001b[1;32m----> 1\u001b[1;33m \u001b[0msns\u001b[0m\u001b[1;33m.\u001b[0m\u001b[0mcountplot\u001b[0m\u001b[1;33m(\u001b[0m\u001b[0mx\u001b[0m \u001b[1;33m=\u001b[0m \u001b[1;34m'region_code'\u001b[0m\u001b[1;33m,\u001b[0m \u001b[0mdata\u001b[0m\u001b[1;33m=\u001b[0m\u001b[0mdf1\u001b[0m\u001b[1;33m,\u001b[0m \u001b[0max\u001b[0m\u001b[1;33m=\u001b[0m\u001b[0max\u001b[0m\u001b[1;33m)\u001b[0m\u001b[1;33m\u001b[0m\u001b[1;33m\u001b[0m\u001b[0m\n\u001b[0m",
      "\u001b[1;31mNameError\u001b[0m: name 'ax' is not defined"
     ]
    }
   ],
   "source": [
    "sns.countplot(x = 'region_code', data=df1, ax=ax)"
   ]
  },
  {
   "cell_type": "code",
   "execution_count": null,
   "metadata": {
    "ExecuteTime": {
     "end_time": "2021-02-02T20:56:43.463792Z",
     "start_time": "2021-02-02T20:54:21.410Z"
    },
    "hidden": true,
    "hide_input": true
   },
   "outputs": [],
   "source": [
    "df_policy_1 = df1['policy_sales_channel'].value_counts().iloc[0:55]\n",
    "df_policy_1 = df_policy_1.reset_index()\n",
    "df_policy_2 = df1['policy_sales_channel'].value_counts().iloc[55:110]\n",
    "df_policy_2 = df_policy_2.reset_index()\n",
    "df_policy_3 = df1['policy_sales_channel'].value_counts().iloc[110:156]\n",
    "df_policy_3 = df_policy_3.reset_index()\n",
    "\n",
    "fig, axs = plt.subplots(ncols= 3, figsize = (16,14))\n",
    "sns.barplot(y = 'index', x='policy_sales_channel', data=df_policy_1, ax=axs[0],orient = 'h',order = df_policy_1['index'])\n",
    "sns.barplot(y = 'index', x='policy_sales_channel', data=df_policy_2, ax=axs[1],orient = 'h',order = df_policy_2['index'])\n",
    "sns.barplot(y = 'index', x='policy_sales_channel', data=df_policy_3, ax=axs[2],orient = 'h',order = df_policy_3['index'])"
   ]
  },
  {
   "cell_type": "markdown",
   "metadata": {
    "hidden": true
   },
   "source": [
    "**Data Description Summary for categorical attributes:**\n",
    "\n",
    "1. **driving_license**\n",
    "    - 2 categorical: 0 or 1\n",
    "    - 99,8% is 1 (yes for driving_license)\n",
    "****  \n",
    "2. **previously_insured**\n",
    "    - 2 categorical: 0 or 1\n",
    "    - 45,8% is 1 (yes for previously_insured)\n",
    "****\n",
    "3. **vehicle_damage**\n",
    "    - only 2 categorical: Yes or No\n",
    "    - 50,5% is 1 (yes for vehicle_damage)\n",
    "****\n",
    "4. **vehicle_age**\n",
    "    - 3 categorical: < 1 Year, 1-2 Year, > 2 Years\n",
    "    - 43,2% is < 1 Year\n",
    "    - 52,6% is 1-2 Year\n",
    "    - 4,2% is > 2 Years\n",
    "****\n",
    "5. **gender**\n",
    "    - 2 categorical: Male or Female\n",
    "    - 54,1% is Male\n",
    "****\n",
    "6. **region_code**\n",
    "    - 53 differents categorical region\n",
    "    - frequency range: 183 to 106415\n",
    "****\n",
    "7. **policy_sales_channel**\n",
    "    - 155 differents categorical of policy_sales_channel\n",
    "    - frequency range: 1 to 134784"
   ]
  },
  {
   "cell_type": "markdown",
   "metadata": {
    "heading_collapsed": true
   },
   "source": [
    "### 1.7.3 Target Atribute"
   ]
  },
  {
   "cell_type": "code",
   "execution_count": 18,
   "metadata": {
    "ExecuteTime": {
     "end_time": "2021-02-02T20:57:36.861854Z",
     "start_time": "2021-02-02T20:57:36.643929Z"
    },
    "hidden": true,
    "hide_input": true
   },
   "outputs": [
    {
     "data": {
      "text/plain": [
       "<AxesSubplot:xlabel='response', ylabel='count'>"
      ]
     },
     "execution_count": 18,
     "metadata": {},
     "output_type": "execute_result"
    },
    {
     "data": {
      "image/png": "[encoded data removed]",
      "text/plain": [
       "<Figure size 432x288 with 1 Axes>"
      ]
     },
     "metadata": {
      "needs_background": "light"
     },
     "output_type": "display_data"
    }
   ],
   "source": [
    "sns.countplot(x = 'response', data=df1)"
   ]
  },
  {
   "cell_type": "markdown",
   "metadata": {
    "hidden": true,
    "hide_input": true
   },
   "source": [
    "Based on response descriptive statistical analysis, this variable (our target) is **unbalanced**.\n",
    "\n",
    "- 87,7% is 0 (negative for interest)\n",
    "- 12,3 is 1 (positive for interest)\n",
    "\n",
    "This problem is not about an unbalanced problem as default. \n",
    "\n",
    "A balance techinic will be applied to solve this problem."
   ]
  },
  {
   "cell_type": "markdown",
   "metadata": {},
   "source": [
    "# 2.0 Feature Engineering And Variables Filtering"
   ]
  },
  {
   "cell_type": "code",
   "execution_count": 20,
   "metadata": {
    "ExecuteTime": {
     "end_time": "2021-02-02T20:57:37.321329Z",
     "start_time": "2021-02-02T20:57:37.303319Z"
    },
    "hide_input": true
   },
   "outputs": [
    {
     "data": {
      "image/png": "[encoded data removed]",
      "text/plain": [
       "<IPython.core.display.Image object>"
      ]
     },
     "execution_count": 20,
     "metadata": {},
     "output_type": "execute_result"
    }
   ],
   "source": [
    "Image ('img/Vehicle_Insurance_Cross_Sell.png')"
   ]
  },
  {
   "cell_type": "markdown",
   "metadata": {
    "hide_input": false
   },
   "source": [
    "## 2.1 Hypotheses creation"
   ]
  },
  {
   "cell_type": "markdown",
   "metadata": {},
   "source": [
    "### 2.1.1 Company's Hypotheses"
   ]
  },
  {
   "cell_type": "markdown",
   "metadata": {},
   "source": [
    " **1.** Interest should occur with customer's previous insured\n",
    " \n",
    " **2.** Interest should occur with customers that spend more than 30k/year with health insurance\n",
    " \n",
    " **3.** Interest should occur with customers with higher vintage - more than 150 days\n",
    "****"
   ]
  },
  {
   "cell_type": "markdown",
   "metadata": {},
   "source": [
    "### 2.1.2 Customer's Hypotheses"
   ]
  },
  {
   "cell_type": "markdown",
   "metadata": {},
   "source": [
    " **1.** Interest should occur with older people (more than 40 years)\n",
    "\n",
    " **2.** Interest should occur more with female than male (%)\n",
    "\n",
    " **3.** Interest should occur with driving license customers\n",
    " \n",
    " **4.** Interest should occur with customers that have more than one vehicle\n",
    " \n",
    " **5.** Interest should occur with customers that earn more than $75k/year\n",
    "\n",
    "****"
   ]
  },
  {
   "cell_type": "markdown",
   "metadata": {},
   "source": [
    "### 2.1.3 Vehicle's Hypotheses"
   ]
  },
  {
   "cell_type": "markdown",
   "metadata": {},
   "source": [
    " **1.** Interest should occur with new vehicles (less than 1 year) \n",
    "\n",
    " **2.** Interest should occur with customer's vehicles previously damaged\n",
    "\n",
    " **3.** Interest should occur with customers that use vehicle more than 3 times per week\n",
    "\n",
    " **4.** Interest should occur with customers that own sport vehicles\n",
    " \n",
    "****"
   ]
  },
  {
   "cell_type": "markdown",
   "metadata": {},
   "source": [
    "### 2.1.4 Location's Hypotheses"
   ]
  },
  {
   "cell_type": "markdown",
   "metadata": {},
   "source": [
    " **1.** Interest should occur with costumer's violent neighborhood\n",
    "\n",
    " **2.** Interest should occur with costumers that live in urban location\n",
    "\n",
    " **3.** Interest should occur with costumers that live in a higher avarage damage city\n",
    "\n",
    "\n",
    "****"
   ]
  },
  {
   "cell_type": "markdown",
   "metadata": {},
   "source": [
    "## 2.2 Creating New Features"
   ]
  },
  {
   "cell_type": "code",
   "execution_count": 27,
   "metadata": {
    "ExecuteTime": {
     "end_time": "2021-02-02T21:15:02.229765Z",
     "start_time": "2021-02-02T21:15:02.195741Z"
    }
   },
   "outputs": [],
   "source": [
    "df2 = df1.copy()"
   ]
  },
  {
   "cell_type": "code",
   "execution_count": 28,
   "metadata": {
    "ExecuteTime": {
     "end_time": "2021-02-02T21:15:55.080152Z",
     "start_time": "2021-02-02T21:15:11.704036Z"
    }
   },
   "outputs": [],
   "source": [
    "#Creating new features\n",
    "\n",
    "\n",
    "#mapping vechicle_damage from NO to 0 and Yes to 1\n",
    "vehicle_damage_mapping = {'No':0,\n",
    "                          'Yes':1}\n",
    "df2['vehicle_damage'] = df2['vehicle_damage'].map(vehicle_damage_mapping)\n",
    "\n",
    "#annual_premium paid per day\n",
    "df2['annual_premium_per_day'] = df2['annual_premium']/df2['vintage']\n",
    "\n",
    "#annual_premium divided per age\n",
    "df2['annual_premium_per_age'] = df2['annual_premium']/df2['age']\n",
    "\n",
    "#vintage_per_age\n",
    "df2['vintage_per_age'] = df2['vintage']/df2['age']\n",
    "\n",
    "#logic between previously_insured  and vehicle_damage\n",
    "df2['previously_insured_vehicle_damage'] =  df2.apply(lambda row: -(row['vehicle_damage'] + row['previously_insured'])**2 if row['previously_insured'] == 0 else (row['vehicle_damage'] + row['previously_insured'])**2, axis=1)\n",
    "\n",
    "#logic between vehicle_age (consider age > 1 as 1 and age < 1 as 0) and vehicle_damage\n",
    "df2['vehicle_age_vehicle_damage'] = df2.apply(lambda row: -(row['vehicle_damage'] + 0)**2 if row['vehicle_age'] == '<1 Year' else (row['vehicle_damage'] + 1)**2, axis=1)\n",
    "\n",
    "#logic between driving_license and vehicle_damage\n",
    "df2['vehicle_damage_license'] = df2.apply(lambda row: -(row['vehicle_damage'] + row['driving_license'])**2 if row['driving_license'] == 0 else (row['vehicle_damage'] + row['driving_license'])**2, axis=1)\n",
    "\n",
    "#logic between annual_premium divided per mean of annual_premium per region_code\n",
    "df2_annual_premium_mean_region_code = df2.rename(columns={'annual_premium': 'annual_premium_mean'}).groupby('region_code').mean()\n",
    "df2_annual_premium_mean_region_code.reset_index(inplace=True)\n",
    "df2 = df2.merge(df2_annual_premium_mean_region_code[['region_code', 'annual_premium_mean']], on='region_code', how='left')\n",
    "df2['annual_premium_per_ap_mean_rc'] = df2.apply(lambda row: (row['annual_premium']/row['annual_premium_mean']) ,axis=1)\n",
    "df2.drop(columns='annual_premium_mean', inplace = True)\n",
    "df2_annual_premium_mean_region_code = None\n",
    "\n",
    "#logic between annual_premium divided per mean of annual_premium per policy_sales_channel\n",
    "df2_annual_premium_mean_policy_sales_channel = df2.rename(columns={'annual_premium': 'annual_premium_mean'}).groupby('policy_sales_channel').mean()\n",
    "df2_annual_premium_mean_policy_sales_channel.reset_index(inplace=True)\n",
    "df2 = df2.merge(df2_annual_premium_mean_policy_sales_channel[['policy_sales_channel', 'annual_premium_mean']], on='policy_sales_channel', how='left')\n",
    "df2['annual_premium_per_ap_mean_psc'] = df2.apply(lambda row: (row['annual_premium']/row['annual_premium_mean']) ,axis=1)\n",
    "df2.drop(columns='annual_premium_mean', inplace = True)\n",
    "df2_annual_premium_mean_policy_sales_channel = None\n",
    "\n",
    "#logic of vehicle_damage_mean per region_code\n",
    "df2_vehicle_damage_mean_per_region_code = df2.rename(columns={'vehicle_damage': 'vehicle_damage_mean_region_code'}).groupby('region_code').mean()\n",
    "df2_vehicle_damage_mean_per_region_code.reset_index(inplace=True)\n",
    "df2 = df2.merge(df2_vehicle_damage_mean_per_region_code[['region_code', 'vehicle_damage_mean_region_code']], on='region_code', how='left')\n",
    "\n",
    "num_attributes = df2[['age', 'annual_premium', 'vintage', 'annual_premium_per_day', \n",
    "                         'annual_premium_per_age', 'vintage_per_age',\n",
    "                         'vehicle_age_vehicle_damage', 'vehicle_damage_license',\n",
    "                         'annual_premium_per_ap_mean_rc', 'annual_premium_per_ap_mean_psc',\n",
    "                         'vehicle_damage_mean_region_code']]\n",
    "\n",
    "cat_attributes = df2[['driving_license', 'previously_insured', 'vehicle_damage', 'vehicle_age',\n",
    "                      'gender', 'region_code', 'policy_sales_channel', 'vehicle_age_vehicle_damage', \n",
    "                      'vehicle_damage_license', 'previously_insured_vehicle_damage', ]]"
   ]
  },
  {
   "cell_type": "markdown",
   "metadata": {},
   "source": [
    "# 3.0 Exploratory Data Analysis (EDA)"
   ]
  },
  {
   "cell_type": "code",
   "execution_count": 23,
   "metadata": {
    "ExecuteTime": {
     "end_time": "2021-02-02T21:02:04.485320Z",
     "start_time": "2021-02-02T21:02:04.411271Z"
    }
   },
   "outputs": [],
   "source": [
    "df3 = df2.copy()"
   ]
  },
  {
   "cell_type": "markdown",
   "metadata": {},
   "source": [
    "## 3.1 Univariate Analysis"
   ]
  },
  {
   "cell_type": "markdown",
   "metadata": {},
   "source": [
    "\n"
   ]
  },
  {
   "cell_type": "markdown",
   "metadata": {},
   "source": [
    "### 3.1.1 Numerical Attributes"
   ]
  },
  {
   "cell_type": "markdown",
   "metadata": {},
   "source": [
    "### 3.1.2 Categorical Attributes"
   ]
  },
  {
   "cell_type": "markdown",
   "metadata": {},
   "source": [
    "### 3.1.3 Response Variable"
   ]
  },
  {
   "cell_type": "code",
   "execution_count": null,
   "metadata": {},
   "outputs": [],
   "source": []
  },
  {
   "cell_type": "code",
   "execution_count": null,
   "metadata": {},
   "outputs": [],
   "source": []
  }
 ],
 "metadata": {
  "kernelspec": {
   "display_name": "Python 3",
   "language": "python",
   "name": "python3"
  },
  "language_info": {
   "codemirror_mode": {
    "name": "ipython",
    "version": 3
   },
   "file_extension": ".py",
   "mimetype": "text/x-python",
   "name": "python",
   "nbconvert_exporter": "python",
   "pygments_lexer": "ipython3",
   "version": "3.8.5"
  },
  "varInspector": {
   "cols": {
    "lenName": 16,
    "lenType": 16,
    "lenVar": 40
   },
   "kernels_config": {
    "python": {
     "delete_cmd_postfix": "",
     "delete_cmd_prefix": "del ",
     "library": "var_list.py",
     "varRefreshCmd": "print(var_dic_list())"
    },
    "r": {
     "delete_cmd_postfix": ") ",
     "delete_cmd_prefix": "rm(",
     "library": "var_list.r",
     "varRefreshCmd": "cat(var_dic_list()) "
    }
   },
   "types_to_exclude": [
    "module",
    "function",
    "builtin_function_or_method",
    "instance",
    "_Feature"
   ],
   "window_display": false
  }
 },
 "nbformat": 4,
 "nbformat_minor": 4
}
