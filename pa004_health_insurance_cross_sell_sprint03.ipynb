{
 "cells": [
  {
   "cell_type": "markdown",
   "metadata": {},
   "source": [
    "# 0.0 Imports"
   ]
  },
  {
   "cell_type": "code",
   "execution_count": 1,
   "metadata": {
    "ExecuteTime": {
     "end_time": "2021-01-31T18:50:23.851526Z",
     "start_time": "2021-01-31T18:50:06.704177Z"
    }
   },
   "outputs": [],
   "source": [
    "import pandas             as pd\n",
    "import numpy              as np\n",
    "import pandas.io.sql      as sqlio\n",
    "\n",
    "import matplotlib.pyplot  as plt\n",
    "import seaborn            as sns\n",
    "\n",
    "%matplotlib inline\n",
    "\n",
    "import warnings\n",
    "warnings.filterwarnings(\"ignore\")\n",
    "\n",
    "import psycopg2"
   ]
  },
  {
   "cell_type": "markdown",
   "metadata": {},
   "source": [
    "## 0.1 Helper Functions"
   ]
  },
  {
   "cell_type": "code",
   "execution_count": 2,
   "metadata": {
    "ExecuteTime": {
     "end_time": "2021-01-31T18:50:23.858635Z",
     "start_time": "2021-01-31T18:50:23.854633Z"
    }
   },
   "outputs": [],
   "source": [
    "def create_connection_database(host_name, port_num, database_name, user_name, password_name):\n",
    "    connection = None\n",
    "    connection = psycopg2.connect(\n",
    "                        host = host_name,\n",
    "                        port = port_num,\n",
    "                        database = database_name,\n",
    "                        user = user_name,\n",
    "                        password = password_name)\n",
    "    return connection\n"
   ]
  },
  {
   "cell_type": "markdown",
   "metadata": {},
   "source": [
    "## 0.2 Loading Data"
   ]
  },
  {
   "cell_type": "code",
   "execution_count": 3,
   "metadata": {
    "ExecuteTime": {
     "end_time": "2021-01-31T18:53:58.421346Z",
     "start_time": "2021-01-31T18:50:23.861637Z"
    }
   },
   "outputs": [
    {
     "name": "stdout",
     "output_type": "stream",
     "text": [
      "Tables shape:\n",
      " Insurance: (381109, 5)\n",
      " Vehicle: (381109, 4)\n",
      " Users: (381109, 5)\n"
     ]
    }
   ],
   "source": [
    "#connect to the DB\n",
    "host_name     = \"comunidade-ds-postgres.c50pcakiuwi3.us-east-1.rds.amazonaws.com\"\n",
    "port_num      = 5432 \n",
    "database_name = \"comunidadedsdb\"\n",
    "user_name     = \"member\"\n",
    "password_name = \"cdspa\"\n",
    "\n",
    "#make connection with DB\n",
    "conn = create_connection_database (host_name, port_num, database_name, user_name, password_name)\n",
    "\n",
    "#checking tables in schema\n",
    "cur = conn.cursor()\n",
    "\n",
    "cur.execute(\"\"\"SELECT table_schema, table_name\n",
    "                      FROM information_schema.tables\n",
    "                      WHERE table_schema != 'pg_catalog'\n",
    "                      AND table_schema != 'information_schema'\n",
    "                      AND table_type='BASE TABLE'\n",
    "                      ORDER BY table_schema, table_name\"\"\")\n",
    "\n",
    "schemas_db = cur.fetchall()\n",
    "\n",
    "# cursor close\n",
    "cur.close()\n",
    "\n",
    "df_insurance = sqlio.read_sql_query(\"Select * from pa004.insurance\", conn)\n",
    "df_vehicle = sqlio.read_sql_query(\"Select * from pa004.vehicle\", conn)\n",
    "df_users = sqlio.read_sql_query(\"Select * from pa004.users\", conn)\n",
    "\n",
    "#close the connection\n",
    "conn.close()\n",
    "\n",
    "#checking each shape of dataframes\n",
    "print('Tables shape:\\n Insurance: {}\\n Vehicle: {}\\n Users: {}'.format(df_insurance.shape,df_vehicle.shape, df_users.shape ))"
   ]
  },
  {
   "cell_type": "code",
   "execution_count": 4,
   "metadata": {
    "ExecuteTime": {
     "end_time": "2021-01-31T18:53:59.117852Z",
     "start_time": "2021-01-31T18:53:58.423347Z"
    }
   },
   "outputs": [
    {
     "data": {
      "text/html": [
       "<div>\n",
       "<style scoped>\n",
       "    .dataframe tbody tr th:only-of-type {\n",
       "        vertical-align: middle;\n",
       "    }\n",
       "\n",
       "    .dataframe tbody tr th {\n",
       "        vertical-align: top;\n",
       "    }\n",
       "\n",
       "    .dataframe thead th {\n",
       "        text-align: right;\n",
       "    }\n",
       "</style>\n",
       "<table border=\"1\" class=\"dataframe\">\n",
       "  <thead>\n",
       "    <tr style=\"text-align: right;\">\n",
       "      <th></th>\n",
       "      <th>id</th>\n",
       "      <th>gender</th>\n",
       "      <th>age</th>\n",
       "      <th>region_code</th>\n",
       "      <th>policy_sales_channel</th>\n",
       "      <th>driving_license</th>\n",
       "      <th>vehicle_age</th>\n",
       "      <th>vehicle_damage</th>\n",
       "      <th>previously_insured</th>\n",
       "      <th>annual_premium</th>\n",
       "      <th>vintage</th>\n",
       "      <th>response</th>\n",
       "    </tr>\n",
       "  </thead>\n",
       "  <tbody>\n",
       "    <tr>\n",
       "      <th>111350</th>\n",
       "      <td>111351</td>\n",
       "      <td>Male</td>\n",
       "      <td>44</td>\n",
       "      <td>35.0</td>\n",
       "      <td>124.0</td>\n",
       "      <td>1</td>\n",
       "      <td>1-2 Year</td>\n",
       "      <td>Yes</td>\n",
       "      <td>0</td>\n",
       "      <td>20632.0</td>\n",
       "      <td>274</td>\n",
       "      <td>0</td>\n",
       "    </tr>\n",
       "    <tr>\n",
       "      <th>324670</th>\n",
       "      <td>324671</td>\n",
       "      <td>Female</td>\n",
       "      <td>76</td>\n",
       "      <td>28.0</td>\n",
       "      <td>26.0</td>\n",
       "      <td>1</td>\n",
       "      <td>&gt; 2 Years</td>\n",
       "      <td>Yes</td>\n",
       "      <td>0</td>\n",
       "      <td>25804.0</td>\n",
       "      <td>284</td>\n",
       "      <td>0</td>\n",
       "    </tr>\n",
       "    <tr>\n",
       "      <th>225905</th>\n",
       "      <td>225906</td>\n",
       "      <td>Male</td>\n",
       "      <td>62</td>\n",
       "      <td>36.0</td>\n",
       "      <td>26.0</td>\n",
       "      <td>1</td>\n",
       "      <td>1-2 Year</td>\n",
       "      <td>Yes</td>\n",
       "      <td>0</td>\n",
       "      <td>32810.0</td>\n",
       "      <td>25</td>\n",
       "      <td>0</td>\n",
       "    </tr>\n",
       "    <tr>\n",
       "      <th>15788</th>\n",
       "      <td>15789</td>\n",
       "      <td>Female</td>\n",
       "      <td>30</td>\n",
       "      <td>21.0</td>\n",
       "      <td>124.0</td>\n",
       "      <td>1</td>\n",
       "      <td>1-2 Year</td>\n",
       "      <td>Yes</td>\n",
       "      <td>0</td>\n",
       "      <td>30081.0</td>\n",
       "      <td>192</td>\n",
       "      <td>1</td>\n",
       "    </tr>\n",
       "    <tr>\n",
       "      <th>297968</th>\n",
       "      <td>297969</td>\n",
       "      <td>Female</td>\n",
       "      <td>44</td>\n",
       "      <td>28.0</td>\n",
       "      <td>122.0</td>\n",
       "      <td>1</td>\n",
       "      <td>&gt; 2 Years</td>\n",
       "      <td>Yes</td>\n",
       "      <td>0</td>\n",
       "      <td>85268.0</td>\n",
       "      <td>45</td>\n",
       "      <td>1</td>\n",
       "    </tr>\n",
       "  </tbody>\n",
       "</table>\n",
       "</div>"
      ],
      "text/plain": [
       "            id  gender  age  region_code  policy_sales_channel  \\\n",
       "111350  111351    Male   44         35.0                 124.0   \n",
       "324670  324671  Female   76         28.0                  26.0   \n",
       "225905  225906    Male   62         36.0                  26.0   \n",
       "15788    15789  Female   30         21.0                 124.0   \n",
       "297968  297969  Female   44         28.0                 122.0   \n",
       "\n",
       "        driving_license vehicle_age vehicle_damage  previously_insured  \\\n",
       "111350                1    1-2 Year            Yes                   0   \n",
       "324670                1   > 2 Years            Yes                   0   \n",
       "225905                1    1-2 Year            Yes                   0   \n",
       "15788                 1    1-2 Year            Yes                   0   \n",
       "297968                1   > 2 Years            Yes                   0   \n",
       "\n",
       "        annual_premium  vintage  response  \n",
       "111350         20632.0      274         0  \n",
       "324670         25804.0      284         0  \n",
       "225905         32810.0       25         0  \n",
       "15788          30081.0      192         1  \n",
       "297968         85268.0       45         1  "
      ]
     },
     "execution_count": 4,
     "metadata": {},
     "output_type": "execute_result"
    }
   ],
   "source": [
    "df0 = df_users.merge(df_vehicle, how = 'outer', on='id')\n",
    "df0 = df0.merge(df_insurance, how = 'outer', on='id')\n",
    "\n",
    "#cleaning memory of dataframes used to collect data from DB\n",
    "df_vehicle = None\n",
    "df_users = None\n",
    "df_insurance = None\n",
    "\n",
    "df0.sample(5)"
   ]
  },
  {
   "cell_type": "markdown",
   "metadata": {},
   "source": [
    "# 1.0 Data Description"
   ]
  },
  {
   "cell_type": "code",
   "execution_count": 5,
   "metadata": {
    "ExecuteTime": {
     "end_time": "2021-01-31T18:53:59.149873Z",
     "start_time": "2021-01-31T18:53:59.119853Z"
    }
   },
   "outputs": [],
   "source": [
    "df1 = df0.copy()"
   ]
  },
  {
   "cell_type": "markdown",
   "metadata": {
    "heading_collapsed": true
   },
   "source": [
    "## 1.1 Rename Columns"
   ]
  },
  {
   "cell_type": "code",
   "execution_count": 6,
   "metadata": {
    "ExecuteTime": {
     "end_time": "2021-01-31T18:53:59.386255Z",
     "start_time": "2021-01-31T18:53:59.151873Z"
    },
    "hidden": true
   },
   "outputs": [
    {
     "data": {
      "text/plain": [
       "Index(['id', 'gender', 'age', 'region_code', 'policy_sales_channel',\n",
       "       'driving_license', 'vehicle_age', 'vehicle_damage',\n",
       "       'previously_insured', 'annual_premium', 'vintage', 'response'],\n",
       "      dtype='object')"
      ]
     },
     "execution_count": 6,
     "metadata": {},
     "output_type": "execute_result"
    }
   ],
   "source": [
    "cols = df1.columns\n",
    "cols"
   ]
  },
  {
   "cell_type": "markdown",
   "metadata": {
    "hidden": true
   },
   "source": [
    "- Columns names already in snake case"
   ]
  },
  {
   "cell_type": "markdown",
   "metadata": {
    "heading_collapsed": true
   },
   "source": [
    "## 1.2 Data Dimension"
   ]
  },
  {
   "cell_type": "code",
   "execution_count": 7,
   "metadata": {
    "ExecuteTime": {
     "end_time": "2021-01-31T18:53:59.647628Z",
     "start_time": "2021-01-31T18:53:59.391253Z"
    },
    "hidden": true
   },
   "outputs": [
    {
     "name": "stdout",
     "output_type": "stream",
     "text": [
      "Number of Rows: 381109\n",
      "Number of Columns: 12\n"
     ]
    }
   ],
   "source": [
    "print('Number of Rows: {}'.format(df1.shape[0]))\n",
    "print('Number of Columns: {}'.format(df1.shape[1]))"
   ]
  },
  {
   "cell_type": "markdown",
   "metadata": {
    "heading_collapsed": true,
    "hide_input": true
   },
   "source": [
    "## 1.3 Data Types"
   ]
  },
  {
   "cell_type": "code",
   "execution_count": 8,
   "metadata": {
    "ExecuteTime": {
     "end_time": "2021-01-31T18:53:59.901719Z",
     "start_time": "2021-01-31T18:53:59.657636Z"
    },
    "hidden": true
   },
   "outputs": [
    {
     "data": {
      "text/plain": [
       "id                        int64\n",
       "gender                   object\n",
       "age                       int64\n",
       "region_code               int64\n",
       "policy_sales_channel      int64\n",
       "driving_license           int64\n",
       "vehicle_age              object\n",
       "vehicle_damage           object\n",
       "previously_insured        int64\n",
       "annual_premium          float64\n",
       "vintage                   int64\n",
       "response                  int64\n",
       "dtype: object"
      ]
     },
     "execution_count": 8,
     "metadata": {},
     "output_type": "execute_result"
    }
   ],
   "source": [
    "df1['region_code'] = df1['region_code'].astype(np.int64)\n",
    "df1['policy_sales_channel'] = df1['policy_sales_channel'].astype(np.int64)\n",
    "df1.dtypes"
   ]
  },
  {
   "cell_type": "markdown",
   "metadata": {
    "hidden": true
   },
   "source": [
    "- Types are OK:\n",
    "    - Only numbers (int and float) and categories (object). There is no dates to convert."
   ]
  },
  {
   "cell_type": "markdown",
   "metadata": {
    "heading_collapsed": true,
    "hide_input": true
   },
   "source": [
    "## 1.4 Check NAN"
   ]
  },
  {
   "cell_type": "code",
   "execution_count": 9,
   "metadata": {
    "ExecuteTime": {
     "end_time": "2021-01-31T18:54:00.099926Z",
     "start_time": "2021-01-31T18:53:59.903721Z"
    },
    "hidden": true
   },
   "outputs": [
    {
     "data": {
      "text/plain": [
       "id                      0\n",
       "gender                  0\n",
       "age                     0\n",
       "region_code             0\n",
       "policy_sales_channel    0\n",
       "driving_license         0\n",
       "vehicle_age             0\n",
       "vehicle_damage          0\n",
       "previously_insured      0\n",
       "annual_premium          0\n",
       "vintage                 0\n",
       "response                0\n",
       "dtype: int64"
      ]
     },
     "execution_count": 9,
     "metadata": {},
     "output_type": "execute_result"
    }
   ],
   "source": [
    "df1.isna().sum()"
   ]
  },
  {
   "cell_type": "markdown",
   "metadata": {
    "hidden": true
   },
   "source": [
    "- There is no NAN in original datas"
   ]
  },
  {
   "cell_type": "markdown",
   "metadata": {
    "heading_collapsed": true,
    "hide_input": true
   },
   "source": [
    "## 1.5 Fillout NA"
   ]
  },
  {
   "cell_type": "markdown",
   "metadata": {
    "hidden": true
   },
   "source": [
    "Not necessary, as seen in 1.4 section"
   ]
  },
  {
   "cell_type": "markdown",
   "metadata": {
    "hide_input": true
   },
   "source": [
    "## 1.6 Columns Description"
   ]
  },
  {
   "cell_type": "code",
   "execution_count": 10,
   "metadata": {
    "ExecuteTime": {
     "end_time": "2021-01-31T18:54:00.314362Z",
     "start_time": "2021-01-31T18:54:00.101928Z"
    }
   },
   "outputs": [
    {
     "data": {
      "text/plain": [
       "Index(['id', 'gender', 'age', 'region_code', 'policy_sales_channel',\n",
       "       'driving_license', 'vehicle_age', 'vehicle_damage',\n",
       "       'previously_insured', 'annual_premium', 'vintage', 'response'],\n",
       "      dtype='object')"
      ]
     },
     "execution_count": 10,
     "metadata": {},
     "output_type": "execute_result"
    }
   ],
   "source": [
    "cols = df1.columns\n",
    "cols"
   ]
  },
  {
   "cell_type": "markdown",
   "metadata": {},
   "source": [
    "\n",
    "- **Id**: Customer identifier \n",
    "- **Gender**: Gender of customer\n",
    "- **Age**: Age of customer\n",
    "- **Driving License**: 0 if customer does not have the permission for drive; 1 if customer has the permission for drive\n",
    "- **Region Code**: Region code of customer\n",
    "- **Previously Insured**: 0 if customer does not have a vehicle insurance; 1 if customer already has a vehicle insurance.\n",
    "- **Vehicle Age**: Age of vehicle\n",
    "- **Vehicle Damage**: 0 if customer never got involved in a previous vehicle damage; 1 if customer already had a vehicle damage\n",
    "- **Annual Premium**: amount paid for health insurance to the company anualy.\n",
    "- **Policy sales channel**: anonymous code for contact with customer.\n",
    "- **Vintage**: time (in days) that customer bought his health assurance.\n",
    "- **Response**: 0 if customer has no interest in product; 1 if customer has interest in product"
   ]
  },
  {
   "cell_type": "markdown",
   "metadata": {
    "heading_collapsed": true,
    "hide_input": true
   },
   "source": [
    "## 1.7 Descriptive Statistical"
   ]
  },
  {
   "cell_type": "code",
   "execution_count": 11,
   "metadata": {
    "ExecuteTime": {
     "end_time": "2021-01-31T18:54:00.547504Z",
     "start_time": "2021-01-31T18:54:00.316363Z"
    },
    "hidden": true
   },
   "outputs": [],
   "source": [
    "num_attributes = df1[['age', 'annual_premium', 'vintage', 'region_code', 'policy_sales_channel']]\n",
    "\n",
    "cat_attributes = df1[['driving_license', 'previously_insured', 'response', 'vehicle_damage', 'vehicle_age', 'gender' ]]"
   ]
  },
  {
   "cell_type": "markdown",
   "metadata": {
    "ExecuteTime": {
     "end_time": "2021-01-10T22:55:10.412533Z",
     "start_time": "2021-01-10T22:55:10.390516Z"
    },
    "hidden": true
   },
   "source": [
    "### 1.7.1 Numerical Attributes"
   ]
  },
  {
   "cell_type": "code",
   "execution_count": 12,
   "metadata": {
    "ExecuteTime": {
     "end_time": "2021-01-31T18:54:01.271800Z",
     "start_time": "2021-01-31T18:54:00.549318Z"
    },
    "hidden": true,
    "hide_input": true
   },
   "outputs": [
    {
     "data": {
      "text/html": [
       "<div>\n",
       "<style scoped>\n",
       "    .dataframe tbody tr th:only-of-type {\n",
       "        vertical-align: middle;\n",
       "    }\n",
       "\n",
       "    .dataframe tbody tr th {\n",
       "        vertical-align: top;\n",
       "    }\n",
       "\n",
       "    .dataframe thead th {\n",
       "        text-align: right;\n",
       "    }\n",
       "</style>\n",
       "<table border=\"1\" class=\"dataframe\">\n",
       "  <thead>\n",
       "    <tr style=\"text-align: right;\">\n",
       "      <th></th>\n",
       "      <th>attributes</th>\n",
       "      <th>min</th>\n",
       "      <th>max</th>\n",
       "      <th>range</th>\n",
       "      <th>mean</th>\n",
       "      <th>median</th>\n",
       "      <th>std</th>\n",
       "      <th>skew</th>\n",
       "      <th>kurtosis</th>\n",
       "    </tr>\n",
       "  </thead>\n",
       "  <tbody>\n",
       "    <tr>\n",
       "      <th>0</th>\n",
       "      <td>age</td>\n",
       "      <td>20.0</td>\n",
       "      <td>85.0</td>\n",
       "      <td>65.0</td>\n",
       "      <td>38.822584</td>\n",
       "      <td>36.0</td>\n",
       "      <td>15.511591</td>\n",
       "      <td>0.672539</td>\n",
       "      <td>-0.565655</td>\n",
       "    </tr>\n",
       "    <tr>\n",
       "      <th>1</th>\n",
       "      <td>annual_premium</td>\n",
       "      <td>2630.0</td>\n",
       "      <td>540165.0</td>\n",
       "      <td>537535.0</td>\n",
       "      <td>30564.389581</td>\n",
       "      <td>31669.0</td>\n",
       "      <td>17213.132474</td>\n",
       "      <td>1.766087</td>\n",
       "      <td>34.004569</td>\n",
       "    </tr>\n",
       "    <tr>\n",
       "      <th>2</th>\n",
       "      <td>vintage</td>\n",
       "      <td>10.0</td>\n",
       "      <td>299.0</td>\n",
       "      <td>289.0</td>\n",
       "      <td>154.347397</td>\n",
       "      <td>154.0</td>\n",
       "      <td>83.671194</td>\n",
       "      <td>0.003030</td>\n",
       "      <td>-1.200688</td>\n",
       "    </tr>\n",
       "    <tr>\n",
       "      <th>3</th>\n",
       "      <td>region_code</td>\n",
       "      <td>0.0</td>\n",
       "      <td>52.0</td>\n",
       "      <td>52.0</td>\n",
       "      <td>26.388807</td>\n",
       "      <td>28.0</td>\n",
       "      <td>13.229871</td>\n",
       "      <td>-0.115266</td>\n",
       "      <td>-0.867857</td>\n",
       "    </tr>\n",
       "    <tr>\n",
       "      <th>4</th>\n",
       "      <td>policy_sales_channel</td>\n",
       "      <td>1.0</td>\n",
       "      <td>163.0</td>\n",
       "      <td>162.0</td>\n",
       "      <td>112.034295</td>\n",
       "      <td>133.0</td>\n",
       "      <td>54.203924</td>\n",
       "      <td>-0.900008</td>\n",
       "      <td>-0.970810</td>\n",
       "    </tr>\n",
       "  </tbody>\n",
       "</table>\n",
       "</div>"
      ],
      "text/plain": [
       "             attributes     min       max     range          mean   median  \\\n",
       "0                   age    20.0      85.0      65.0     38.822584     36.0   \n",
       "1        annual_premium  2630.0  540165.0  537535.0  30564.389581  31669.0   \n",
       "2               vintage    10.0     299.0     289.0    154.347397    154.0   \n",
       "3           region_code     0.0      52.0      52.0     26.388807     28.0   \n",
       "4  policy_sales_channel     1.0     163.0     162.0    112.034295    133.0   \n",
       "\n",
       "            std      skew   kurtosis  \n",
       "0     15.511591  0.672539  -0.565655  \n",
       "1  17213.132474  1.766087  34.004569  \n",
       "2     83.671194  0.003030  -1.200688  \n",
       "3     13.229871 -0.115266  -0.867857  \n",
       "4     54.203924 -0.900008  -0.970810  "
      ]
     },
     "execution_count": 12,
     "metadata": {},
     "output_type": "execute_result"
    }
   ],
   "source": [
    "# Central Tendency - Mean, median\n",
    "\n",
    "ct1 = pd.DataFrame(num_attributes.apply(np.mean)).T\n",
    "ct2 = pd.DataFrame(num_attributes.apply(np.median)).T\n",
    "\n",
    "# Dispersion - std, min, max, range, skew, kurtosis\n",
    "d1 = pd.DataFrame(num_attributes.apply(np.std)).T\n",
    "d2 = pd.DataFrame(num_attributes.apply(min)).T\n",
    "d3 = pd.DataFrame(num_attributes.apply(max)).T\n",
    "d4 = pd.DataFrame(num_attributes.apply( lambda x: x.max()- x.min() ) ).T\n",
    "d5 = pd.DataFrame(num_attributes.apply( lambda x: x.skew() ) ).T\n",
    "d6 = pd.DataFrame(num_attributes.apply( lambda x: x.kurtosis() ) ).T\n",
    "\n",
    "#concatenate\n",
    "\n",
    "m = pd.concat ([d2, d3, d4, ct1, ct2, d1, d5, d6]).T.reset_index()\n",
    "m.columns = (['attributes', 'min', 'max', 'range', 'mean', 'median', 'std', 'skew', 'kurtosis'])\n",
    "m"
   ]
  },
  {
   "cell_type": "code",
   "execution_count": 13,
   "metadata": {
    "ExecuteTime": {
     "end_time": "2021-01-31T18:54:15.151378Z",
     "start_time": "2021-01-31T18:54:01.272800Z"
    },
    "hidden": true,
    "hide_input": true
   },
   "outputs": [
    {
     "data": {
      "text/plain": [
       "<AxesSubplot:xlabel='policy_sales_channel', ylabel='Density'>"
      ]
     },
     "execution_count": 13,
     "metadata": {},
     "output_type": "execute_result"
    },
    {
     "data": {
      "image/png": "[encoded data removed]",
      "text/plain": [
       "<Figure size 1152x576 with 6 Axes>"
      ]
     },
     "metadata": {
      "needs_background": "light"
     },
     "output_type": "display_data"
    }
   ],
   "source": [
    "fig, axs = plt.subplots(ncols = 3, nrows = 2,  figsize = (16,8))\n",
    "sns.distplot(df1['age'], ax=axs[0][0], bins = 6)\n",
    "sns.distplot(df1[df1['annual_premium']<100000]['annual_premium'], ax=axs[0][1])\n",
    "sns.distplot(df1['vintage'], ax=axs[0][2])\n",
    "\n",
    "sns.distplot(df1['region_code'], ax=axs[1][0])\n",
    "sns.distplot(df1['policy_sales_channel'], ax=axs[1][1])"
   ]
  },
  {
   "cell_type": "code",
   "execution_count": 14,
   "metadata": {
    "ExecuteTime": {
     "end_time": "2021-01-31T18:54:15.374525Z",
     "start_time": "2021-01-31T18:54:15.156383Z"
    },
    "hidden": true,
    "hide_input": true
   },
   "outputs": [
    {
     "name": "stdout",
     "output_type": "stream",
     "text": [
      "Age analysis:\n",
      "Percent of 20-29: 0.424\n",
      "Percent of 30-39: 0.145\n",
      "Percent of 40-49: 0.199\n",
      "Percent of 50-59: 0.119\n",
      "Percent of 60-69: 0.073\n",
      "Percent of 70-79: 0.04\n",
      "Percent of 80-85: 0.0003\n"
     ]
    }
   ],
   "source": [
    "bins = pd.cut(df1['age'], [19, 30, 40, 50, 60, 70, 80, 90])\n",
    "\n",
    "df1.groupby(bins)['age'].size().sum()\n",
    "print('Age analysis:')\n",
    "print('Percent of 20-29: {}'.format(round((df1.groupby(bins)['age'].size()[0]/df1.groupby(bins)['age'].size().sum()),3)))\n",
    "print('Percent of 30-39: {}'.format(round((df1.groupby(bins)['age'].size()[1]/df1.groupby(bins)['age'].size().sum()),3)))\n",
    "print('Percent of 40-49: {}'.format(round((df1.groupby(bins)['age'].size()[2]/df1.groupby(bins)['age'].size().sum()),3)))\n",
    "print('Percent of 50-59: {}'.format(round((df1.groupby(bins)['age'].size()[3]/df1.groupby(bins)['age'].size().sum()),3)))\n",
    "print('Percent of 60-69: {}'.format(round((df1.groupby(bins)['age'].size()[4]/df1.groupby(bins)['age'].size().sum()),3)))\n",
    "print('Percent of 70-79: {}'.format(round((df1.groupby(bins)['age'].size()[5]/df1.groupby(bins)['age'].size().sum()),3)))\n",
    "print('Percent of 80-85: {}'.format(round((df1.groupby(bins)['age'].size()[6]/df1.groupby(bins)['age'].size().sum()),4)))"
   ]
  },
  {
   "cell_type": "markdown",
   "metadata": {
    "hidden": true
   },
   "source": [
    "**Data Description Summary:**\n",
    "\n",
    "1. Age \n",
    "    - Range is from 20 to 85. \n",
    "    - Mean is 38.82 and median is 36. \n",
    "    - Higher density is from 20 to 29 with 42%, followed by 40 to 49 with 19,9%.\n",
    "2. Annual_premium\n",
    "    - Range is from 2630 to 540165.\n",
    "    - There is a peak in 2630, and a high density around 20000 to 60000.\n",
    "3. Vintage\n",
    "    - Range is from 10 to 299.\n",
    "    - Mean and median are 154. \n",
    "    - "
   ]
  },
  {
   "cell_type": "markdown",
   "metadata": {
    "ExecuteTime": {
     "end_time": "2021-01-10T22:55:10.412533Z",
     "start_time": "2021-01-10T22:55:10.390516Z"
    },
    "heading_collapsed": true,
    "hidden": true
   },
   "source": [
    "### 1.7.2 Categorical Attributes"
   ]
  },
  {
   "cell_type": "code",
   "execution_count": 15,
   "metadata": {
    "ExecuteTime": {
     "end_time": "2021-01-31T18:54:15.506787Z",
     "start_time": "2021-01-31T18:54:15.376527Z"
    },
    "hidden": true
   },
   "outputs": [
    {
     "data": {
      "text/plain": [
       "driving_license       2\n",
       "previously_insured    2\n",
       "response              2\n",
       "vehicle_damage        2\n",
       "vehicle_age           3\n",
       "gender                2\n",
       "dtype: int64"
      ]
     },
     "execution_count": 15,
     "metadata": {},
     "output_type": "execute_result"
    }
   ],
   "source": [
    "cat_attributes.apply(lambda x: x.unique().shape[0])"
   ]
  },
  {
   "cell_type": "code",
   "execution_count": 16,
   "metadata": {
    "ExecuteTime": {
     "end_time": "2021-01-31T18:54:17.518960Z",
     "start_time": "2021-01-31T18:54:15.507787Z"
    },
    "hidden": true
   },
   "outputs": [
    {
     "data": {
      "text/plain": [
       "<AxesSubplot:xlabel='response', ylabel='count'>"
      ]
     },
     "execution_count": 16,
     "metadata": {},
     "output_type": "execute_result"
    },
    {
     "data": {
      "image/png": "[encoded data removed]",
      "text/plain": [
       "<Figure size 1152x576 with 6 Axes>"
      ]
     },
     "metadata": {
      "needs_background": "light"
     },
     "output_type": "display_data"
    }
   ],
   "source": [
    "fig, axs = plt.subplots(ncols = 3, nrows = 2,  figsize = (16,8))\n",
    "\n",
    "sns.countplot(x ='driving_license', data= df1, ax=axs[0][0])\n",
    "sns.countplot(x = 'previously_insured', data=df1, ax=axs[0][1])\n",
    "sns.countplot(x = 'vehicle_damage', data=df1, ax=axs[0][2])\n",
    "\n",
    "sns.countplot(x = 'vehicle_age', data=df1,ax=axs[1][0])\n",
    "sns.countplot(x = 'gender', data=df1,ax=axs[1][1])\n",
    "sns.countplot(x = 'response', data=df1, ax=axs[1][2])"
   ]
  },
  {
   "cell_type": "markdown",
   "metadata": {
    "hidden": true
   },
   "source": [
    "- Based on response descriptive statistical analysis, this variable (our target) is unbalanced. This problem is not about an unbalanced problem as default. A balance techinic will be applied to solve this problem."
   ]
  },
  {
   "cell_type": "code",
   "execution_count": null,
   "metadata": {
    "hidden": true
   },
   "outputs": [],
   "source": []
  },
  {
   "cell_type": "markdown",
   "metadata": {},
   "source": [
    "# 2.0 Feature Engineering And Variables Filtering"
   ]
  },
  {
   "cell_type": "code",
   "execution_count": 17,
   "metadata": {
    "ExecuteTime": {
     "end_time": "2021-01-31T18:54:17.626036Z",
     "start_time": "2021-01-31T18:54:17.520961Z"
    }
   },
   "outputs": [],
   "source": [
    "df2 = df1.copy()\n",
    "\n",
    "vehicle_damage_mapping = {'No':0,\n",
    "                          'Yes':1}\n",
    "df2['vehicle_damage'] = df2['vehicle_damage'].map(vehicle_damage_mapping)"
   ]
  },
  {
   "cell_type": "code",
   "execution_count": 18,
   "metadata": {
    "ExecuteTime": {
     "end_time": "2021-01-31T18:55:02.366349Z",
     "start_time": "2021-01-31T18:54:17.628033Z"
    }
   },
   "outputs": [],
   "source": [
    "#Creating new features\n",
    "\n",
    "#annual_premium paid per day\n",
    "df2['annual_premium_per_day'] = df2['annual_premium']/df2['vintage']\n",
    "\n",
    "#annual_premium divided per age\n",
    "df2['annual_premium_per_age'] = df2['annual_premium']/df2['age']\n",
    "\n",
    "#vintage_per_age\n",
    "df2['vintage_per_age'] = df2['vintage']/df2['age']\n",
    "\n",
    "#logic between previously_insured  and vehicle_damage\n",
    "df2['previously_insured_vehicle_damage'] =  df2.apply(lambda row: -(row['vehicle_damage'] + row['previously_insured'])**2 if row['previously_insured'] == 0 else (row['vehicle_damage'] + row['previously_insured'])**2, axis=1)\n",
    "\n",
    "#logic between vehicle_age (consider age > 1 as 1 and age < 1 as 0) and vehicle_damage\n",
    "df2['vehicle_age_vehicle_damage'] = df2.apply(lambda row: -(row['vehicle_damage'] + 0)**2 if row['vehicle_age'] == '<1 Year' else (row['vehicle_damage'] + 1)**2, axis=1)\n",
    "\n",
    "#logic between driving_license and vehicle_damage\n",
    "df2['vehicle_damage_license'] = df2.apply(lambda row: -(row['vehicle_damage'] + row['driving_license'])**2 if row['driving_license'] == 0 else (row['vehicle_damage'] + row['driving_license'])**2, axis=1)\n",
    "\n",
    "#logic between annual_premium divided per mean of annual_premium per region_code\n",
    "df2_annual_premium_mean_region_code = df2.rename(columns={'annual_premium': 'annual_premium_mean'}).groupby('region_code').mean()\n",
    "df2_annual_premium_mean_region_code.reset_index(inplace=True)\n",
    "df2 = df2.merge(df2_annual_premium_mean_region_code[['region_code', 'annual_premium_mean']], on='region_code', how='left')\n",
    "df2['annual_premium_per_ap_mean_rc'] = df2.apply(lambda row: (row['annual_premium']/row['annual_premium_mean']) ,axis=1)\n",
    "df2.drop(columns='annual_premium_mean', inplace = True)\n",
    "df2_annual_premium_mean_region_code = None\n",
    "\n",
    "#logic between annual_premium divided per mean of annual_premium per policy_sales_channel\n",
    "df2_annual_premium_mean_policy_sales_channel = df2.rename(columns={'annual_premium': 'annual_premium_mean'}).groupby('policy_sales_channel').mean()\n",
    "df2_annual_premium_mean_policy_sales_channel.reset_index(inplace=True)\n",
    "df2 = df2.merge(df2_annual_premium_mean_policy_sales_channel[['policy_sales_channel', 'annual_premium_mean']], on='policy_sales_channel', how='left')\n",
    "df2['annual_premium_per_ap_mean_psc'] = df2.apply(lambda row: (row['annual_premium']/row['annual_premium_mean']) ,axis=1)\n",
    "df2.drop(columns='annual_premium_mean', inplace = True)\n",
    "df2_annual_premium_mean_policy_sales_channel = None\n",
    "\n",
    "#logic of vehicle_damage_mean per region_code\n",
    "df2_vehicle_damage_mean_per_region_code = df2.rename(columns={'vehicle_damage': 'vehicle_damage_mean_region_code'}).groupby('region_code').mean()\n",
    "df2_vehicle_damage_mean_per_region_code.reset_index(inplace=True)\n",
    "df2 = df2.merge(df2_vehicle_damage_mean_per_region_code[['region_code', 'vehicle_damage_mean_region_code']], on='region_code', how='left')"
   ]
  },
  {
   "cell_type": "code",
   "execution_count": 19,
   "metadata": {
    "ExecuteTime": {
     "end_time": "2021-01-31T18:55:02.521453Z",
     "start_time": "2021-01-31T18:55:02.368351Z"
    }
   },
   "outputs": [
    {
     "data": {
      "text/html": [
       "<div>\n",
       "<style scoped>\n",
       "    .dataframe tbody tr th:only-of-type {\n",
       "        vertical-align: middle;\n",
       "    }\n",
       "\n",
       "    .dataframe tbody tr th {\n",
       "        vertical-align: top;\n",
       "    }\n",
       "\n",
       "    .dataframe thead th {\n",
       "        text-align: right;\n",
       "    }\n",
       "</style>\n",
       "<table border=\"1\" class=\"dataframe\">\n",
       "  <thead>\n",
       "    <tr style=\"text-align: right;\">\n",
       "      <th></th>\n",
       "      <th>id</th>\n",
       "      <th>gender</th>\n",
       "      <th>age</th>\n",
       "      <th>region_code</th>\n",
       "      <th>policy_sales_channel</th>\n",
       "      <th>driving_license</th>\n",
       "      <th>vehicle_age</th>\n",
       "      <th>vehicle_damage</th>\n",
       "      <th>previously_insured</th>\n",
       "      <th>annual_premium</th>\n",
       "      <th>...</th>\n",
       "      <th>response</th>\n",
       "      <th>annual_premium_per_day</th>\n",
       "      <th>annual_premium_per_age</th>\n",
       "      <th>vintage_per_age</th>\n",
       "      <th>previously_insured_vehicle_damage</th>\n",
       "      <th>vehicle_age_vehicle_damage</th>\n",
       "      <th>vehicle_damage_license</th>\n",
       "      <th>annual_premium_per_ap_mean_rc</th>\n",
       "      <th>annual_premium_per_ap_mean_psc</th>\n",
       "      <th>vehicle_damage_mean_region_code</th>\n",
       "    </tr>\n",
       "  </thead>\n",
       "  <tbody>\n",
       "    <tr>\n",
       "      <th>41100</th>\n",
       "      <td>41101</td>\n",
       "      <td>Male</td>\n",
       "      <td>25</td>\n",
       "      <td>8</td>\n",
       "      <td>152</td>\n",
       "      <td>1</td>\n",
       "      <td>&lt; 1 Year</td>\n",
       "      <td>0</td>\n",
       "      <td>1</td>\n",
       "      <td>45752.0</td>\n",
       "      <td>...</td>\n",
       "      <td>0</td>\n",
       "      <td>682.865672</td>\n",
       "      <td>1830.080000</td>\n",
       "      <td>2.680000</td>\n",
       "      <td>1</td>\n",
       "      <td>1</td>\n",
       "      <td>1</td>\n",
       "      <td>1.254580</td>\n",
       "      <td>1.481165</td>\n",
       "      <td>0.458600</td>\n",
       "    </tr>\n",
       "    <tr>\n",
       "      <th>140357</th>\n",
       "      <td>140358</td>\n",
       "      <td>Female</td>\n",
       "      <td>30</td>\n",
       "      <td>16</td>\n",
       "      <td>152</td>\n",
       "      <td>1</td>\n",
       "      <td>&lt; 1 Year</td>\n",
       "      <td>0</td>\n",
       "      <td>1</td>\n",
       "      <td>28977.0</td>\n",
       "      <td>...</td>\n",
       "      <td>0</td>\n",
       "      <td>118.758197</td>\n",
       "      <td>965.900000</td>\n",
       "      <td>8.133333</td>\n",
       "      <td>1</td>\n",
       "      <td>1</td>\n",
       "      <td>1</td>\n",
       "      <td>1.256510</td>\n",
       "      <td>0.938095</td>\n",
       "      <td>0.432486</td>\n",
       "    </tr>\n",
       "    <tr>\n",
       "      <th>18771</th>\n",
       "      <td>18772</td>\n",
       "      <td>Female</td>\n",
       "      <td>24</td>\n",
       "      <td>30</td>\n",
       "      <td>152</td>\n",
       "      <td>1</td>\n",
       "      <td>&lt; 1 Year</td>\n",
       "      <td>0</td>\n",
       "      <td>1</td>\n",
       "      <td>29368.0</td>\n",
       "      <td>...</td>\n",
       "      <td>0</td>\n",
       "      <td>131.107143</td>\n",
       "      <td>1223.666667</td>\n",
       "      <td>9.333333</td>\n",
       "      <td>1</td>\n",
       "      <td>1</td>\n",
       "      <td>1</td>\n",
       "      <td>1.152439</td>\n",
       "      <td>0.950753</td>\n",
       "      <td>0.313264</td>\n",
       "    </tr>\n",
       "    <tr>\n",
       "      <th>109652</th>\n",
       "      <td>109653</td>\n",
       "      <td>Male</td>\n",
       "      <td>73</td>\n",
       "      <td>0</td>\n",
       "      <td>124</td>\n",
       "      <td>1</td>\n",
       "      <td>1-2 Year</td>\n",
       "      <td>1</td>\n",
       "      <td>0</td>\n",
       "      <td>2630.0</td>\n",
       "      <td>...</td>\n",
       "      <td>0</td>\n",
       "      <td>11.741071</td>\n",
       "      <td>36.027397</td>\n",
       "      <td>3.068493</td>\n",
       "      <td>-1</td>\n",
       "      <td>4</td>\n",
       "      <td>4</td>\n",
       "      <td>0.862989</td>\n",
       "      <td>0.082939</td>\n",
       "      <td>0.585849</td>\n",
       "    </tr>\n",
       "    <tr>\n",
       "      <th>28489</th>\n",
       "      <td>28490</td>\n",
       "      <td>Female</td>\n",
       "      <td>23</td>\n",
       "      <td>45</td>\n",
       "      <td>152</td>\n",
       "      <td>1</td>\n",
       "      <td>&lt; 1 Year</td>\n",
       "      <td>0</td>\n",
       "      <td>1</td>\n",
       "      <td>27414.0</td>\n",
       "      <td>...</td>\n",
       "      <td>0</td>\n",
       "      <td>375.534247</td>\n",
       "      <td>1191.913043</td>\n",
       "      <td>3.173913</td>\n",
       "      <td>1</td>\n",
       "      <td>1</td>\n",
       "      <td>1</td>\n",
       "      <td>1.085011</td>\n",
       "      <td>0.887495</td>\n",
       "      <td>0.471186</td>\n",
       "    </tr>\n",
       "  </tbody>\n",
       "</table>\n",
       "<p>5 rows × 21 columns</p>\n",
       "</div>"
      ],
      "text/plain": [
       "            id  gender  age  region_code  policy_sales_channel  \\\n",
       "41100    41101    Male   25            8                   152   \n",
       "140357  140358  Female   30           16                   152   \n",
       "18771    18772  Female   24           30                   152   \n",
       "109652  109653    Male   73            0                   124   \n",
       "28489    28490  Female   23           45                   152   \n",
       "\n",
       "        driving_license vehicle_age  vehicle_damage  previously_insured  \\\n",
       "41100                 1    < 1 Year               0                   1   \n",
       "140357                1    < 1 Year               0                   1   \n",
       "18771                 1    < 1 Year               0                   1   \n",
       "109652                1    1-2 Year               1                   0   \n",
       "28489                 1    < 1 Year               0                   1   \n",
       "\n",
       "        annual_premium  ...  response  annual_premium_per_day  \\\n",
       "41100          45752.0  ...         0              682.865672   \n",
       "140357         28977.0  ...         0              118.758197   \n",
       "18771          29368.0  ...         0              131.107143   \n",
       "109652          2630.0  ...         0               11.741071   \n",
       "28489          27414.0  ...         0              375.534247   \n",
       "\n",
       "        annual_premium_per_age  vintage_per_age  \\\n",
       "41100              1830.080000         2.680000   \n",
       "140357              965.900000         8.133333   \n",
       "18771              1223.666667         9.333333   \n",
       "109652               36.027397         3.068493   \n",
       "28489              1191.913043         3.173913   \n",
       "\n",
       "        previously_insured_vehicle_damage  vehicle_age_vehicle_damage  \\\n",
       "41100                                   1                           1   \n",
       "140357                                  1                           1   \n",
       "18771                                   1                           1   \n",
       "109652                                 -1                           4   \n",
       "28489                                   1                           1   \n",
       "\n",
       "        vehicle_damage_license  annual_premium_per_ap_mean_rc  \\\n",
       "41100                        1                       1.254580   \n",
       "140357                       1                       1.256510   \n",
       "18771                        1                       1.152439   \n",
       "109652                       4                       0.862989   \n",
       "28489                        1                       1.085011   \n",
       "\n",
       "        annual_premium_per_ap_mean_psc  vehicle_damage_mean_region_code  \n",
       "41100                         1.481165                         0.458600  \n",
       "140357                        0.938095                         0.432486  \n",
       "18771                         0.950753                         0.313264  \n",
       "109652                        0.082939                         0.585849  \n",
       "28489                         0.887495                         0.471186  \n",
       "\n",
       "[5 rows x 21 columns]"
      ]
     },
     "execution_count": 19,
     "metadata": {},
     "output_type": "execute_result"
    }
   ],
   "source": [
    "df2.sample(5)"
   ]
  },
  {
   "cell_type": "markdown",
   "metadata": {},
   "source": [
    "# 3.0 Exploratory Data Analysis (EDA)"
   ]
  },
  {
   "cell_type": "code",
   "execution_count": null,
   "metadata": {},
   "outputs": [],
   "source": []
  },
  {
   "cell_type": "markdown",
   "metadata": {},
   "source": [
    "- Interest should occur with customer's previous insured\n",
    "- Interest should occur with older people (more than 40 years)\n",
    "- Interest should occur with new vehicles (less than 5 years) \n",
    "- Interest should occur with older customers (more then 150 days)\n",
    "- Interest should occur with customers vehicles previously damaged\n",
    "- Interest should occur with women\n",
    "- Interest should occur with customers that spend more than 30k/year with health insurance\n",
    "- Drivers license is greater in older people (more than 40 years)\n",
    "- Previously Insured is greater in older people (more than 40 years)\n",
    "- Vehicle Age is greater (more than 2 years) in older people (more than 40 years)\n"
   ]
  },
  {
   "cell_type": "code",
   "execution_count": null,
   "metadata": {},
   "outputs": [],
   "source": []
  }
 ],
 "metadata": {
  "kernelspec": {
   "display_name": "Python 3",
   "language": "python",
   "name": "python3"
  },
  "language_info": {
   "codemirror_mode": {
    "name": "ipython",
    "version": 3
   },
   "file_extension": ".py",
   "mimetype": "text/x-python",
   "name": "python",
   "nbconvert_exporter": "python",
   "pygments_lexer": "ipython3",
   "version": "3.8.5"
  },
  "varInspector": {
   "cols": {
    "lenName": 16,
    "lenType": 16,
    "lenVar": 40
   },
   "kernels_config": {
    "python": {
     "delete_cmd_postfix": "",
     "delete_cmd_prefix": "del ",
     "library": "var_list.py",
     "varRefreshCmd": "print(var_dic_list())"
    },
    "r": {
     "delete_cmd_postfix": ") ",
     "delete_cmd_prefix": "rm(",
     "library": "var_list.r",
     "varRefreshCmd": "cat(var_dic_list()) "
    }
   },
   "types_to_exclude": [
    "module",
    "function",
    "builtin_function_or_method",
    "instance",
    "_Feature"
   ],
   "window_display": false
  }
 },
 "nbformat": 4,
 "nbformat_minor": 4
}
